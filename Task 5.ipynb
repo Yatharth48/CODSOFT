{
 "cells": [
  {
   "cell_type": "markdown",
   "id": "373c74c1-e86d-40f7-a03e-3711978855b4",
   "metadata": {},
   "source": [
    "# Task 5 : Credit card fraud detection"
   ]
  },
  {
   "cell_type": "code",
   "execution_count": null,
   "id": "c6c5cfa6-71e0-4d84-bbfa-5c3b63098941",
   "metadata": {},
   "outputs": [],
   "source": [
    "# import necessary dependencies"
   ]
  },
  {
   "cell_type": "code",
   "execution_count": null,
   "id": "a4f5a7c4-0141-473e-ad50-c02a50b0fc1b",
   "metadata": {},
   "outputs": [],
   "source": [
    "import pandas as pd\n",
    "import numpy as np\n",
    "import seaborn as sns\n",
    "import matplotlib.pyplot as plt\n",
    "from sklearn.model_selection import train_test_split # type: ignore\n",
    "from sklearn.metrics import accuracy_score, precision_score, recall_score, classification_report # type: ignore\n",
    "from sklearn.linear_model import LogisticRegression"
   ]
  },
  {
   "cell_type": "code",
   "execution_count": null,
   "id": "9e80bc00-f9e6-4f11-95ef-5290ddfe58d2",
   "metadata": {},
   "outputs": [],
   "source": [
    "credit_card_data = pd.read_csv(r\"C:\\Users\\HP\\OneDrive\\Desktop\\codsoft\\datasets\\creditcard.csv\")"
   ]
  },
  {
   "cell_type": "markdown",
   "id": "7585971b-f676-41ae-a97f-4996d71a5288",
   "metadata": {},
   "source": [
    "# data analysis"
   ]
  },
  {
   "cell_type": "code",
   "execution_count": null,
   "id": "9817fc2d-dc46-4a30-8a72-5422923e184a",
   "metadata": {},
   "outputs": [],
   "source": [
    "credit_card_data"
   ]
  },
  {
   "cell_type": "code",
   "execution_count": null,
   "id": "ff87f05b-be2b-4b14-b07e-56c5ff671044",
   "metadata": {},
   "outputs": [],
   "source": [
    "ccd = credit_card_data"
   ]
  },
  {
   "cell_type": "code",
   "execution_count": null,
   "id": "2bdf72e3-64dc-4093-a101-37d2ef721981",
   "metadata": {},
   "outputs": [],
   "source": [
    "ccd.info()"
   ]
  },
  {
   "cell_type": "code",
   "execution_count": null,
   "id": "09386901-94e3-4099-9f89-8ebebfd97a9d",
   "metadata": {},
   "outputs": [],
   "source": [
    "# no object data type so we wouldn't need any conversions in here"
   ]
  },
  {
   "cell_type": "code",
   "execution_count": null,
   "id": "2cd6d3b4-e477-448f-850c-074761fcde78",
   "metadata": {
    "scrolled": true
   },
   "outputs": [],
   "source": [
    "ccd.isnull().sum()"
   ]
  },
  {
   "cell_type": "code",
   "execution_count": null,
   "id": "fdef935f-1dad-47f6-aeed-56de9331c155",
   "metadata": {},
   "outputs": [],
   "source": [
    "# no null values, that's great"
   ]
  },
  {
   "cell_type": "code",
   "execution_count": null,
   "id": "305db4b0-5e0c-4885-bf7f-6082211678f5",
   "metadata": {},
   "outputs": [],
   "source": [
    "# distribution of fraudulent and legitimate classes\n",
    "ccd['Class'].value_counts()"
   ]
  },
  {
   "cell_type": "code",
   "execution_count": null,
   "id": "7fcc34cc-cb1c-45e7-96da-f4bb72553cd4",
   "metadata": {},
   "outputs": [],
   "source": [
    "# where 1 - depicts fraudulent cases and 0 -  depicts legitimate classes which actually implies that this dataset is highly imbalanced "
   ]
  },
  {
   "cell_type": "markdown",
   "id": "8c178c0c-7e77-4084-8109-7bd1a8fd02a3",
   "metadata": {},
   "source": [
    "Data Visualization"
   ]
  },
  {
   "cell_type": "code",
   "execution_count": null,
   "id": "9e02a4ec-0e58-4734-8822-2baa7a543fff",
   "metadata": {},
   "outputs": [],
   "source": [
    "# visualizing the class distribution in percentage"
   ]
  },
  {
   "cell_type": "code",
   "execution_count": null,
   "id": "911f8168-35c2-4d9a-8734-7df46ad1ff75",
   "metadata": {},
   "outputs": [],
   "source": [
    "print((ccd.groupby('Class')['Class'].count()/ccd['Class'].count())*100)\n",
    "((ccd.groupby('Class')['Class'].count()/ccd['Class'].count())*100).plot.pie()"
   ]
  },
  {
   "cell_type": "code",
   "execution_count": null,
   "id": "c3350022-2130-41ad-9f01-76d2b2b6e308",
   "metadata": {},
   "outputs": [],
   "source": [
    "classes = ccd['Class'].value_counts()\n",
    "normal_value = round(classes[0]/ccd['Class'].count()*100,2)\n",
    "fraud_values = round(classes[1]/ccd['Class'].count()*100,2)\n",
    "print(normal_value)\n",
    "print(fraud_values)"
   ]
  },
  {
   "cell_type": "code",
   "execution_count": null,
   "id": "0b72a2f0-1232-4df2-859f-207a8add1b71",
   "metadata": {},
   "outputs": [],
   "source": [
    "# let's check tthe correlation of the features"
   ]
  },
  {
   "cell_type": "code",
   "execution_count": null,
   "id": "ceb54969-1dd8-4f98-b75c-77e65cbe9045",
   "metadata": {},
   "outputs": [],
   "source": [
    "corr = ccd.corr()\n",
    "corr"
   ]
  },
  {
   "cell_type": "code",
   "execution_count": null,
   "id": "63216afa-1a63-417f-a07b-215945cad894",
   "metadata": {
    "scrolled": true
   },
   "outputs": [],
   "source": [
    "# plotting the heatmap for the correlation\n",
    "plt.figure(figsize=(27,19))\n",
    "sns.heatmap(corr, cmap = 'spring', annot= True )\n",
    "plt.show()"
   ]
  },
  {
   "cell_type": "code",
   "execution_count": null,
   "id": "45f504c1-de04-4629-94f8-e810630534a4",
   "metadata": {},
   "outputs": [],
   "source": [
    "# separte the data according to type of transaction i.e. fraud or legit"
   ]
  },
  {
   "cell_type": "code",
   "execution_count": null,
   "id": "dae16f27-f231-41d3-8237-dcd2d4bb2fb5",
   "metadata": {},
   "outputs": [],
   "source": [
    "legit = ccd[ccd.Class == 0]"
   ]
  },
  {
   "cell_type": "code",
   "execution_count": null,
   "id": "c8f881cd-4a33-41e9-9ca6-6123739184e7",
   "metadata": {},
   "outputs": [],
   "source": [
    "fraud = ccd[ccd.Class==1]"
   ]
  },
  {
   "cell_type": "code",
   "execution_count": null,
   "id": "694c689b-09b5-428c-992d-17cd370af17f",
   "metadata": {},
   "outputs": [],
   "source": [
    "legit.Amount.describe()"
   ]
  },
  {
   "cell_type": "code",
   "execution_count": null,
   "id": "be1e947a-64e1-48dc-a9a8-2674c0ae0dc9",
   "metadata": {},
   "outputs": [],
   "source": [
    "fraud.Amount.describe()"
   ]
  },
  {
   "cell_type": "code",
   "execution_count": null,
   "id": "7329fc47-29aa-471b-bd1a-179e41dfb656",
   "metadata": {},
   "outputs": [],
   "source": [
    "# we can observe that the mean amount spent for fraud transactions is actually more than for the legit ones"
   ]
  },
  {
   "cell_type": "code",
   "execution_count": null,
   "id": "a5dc4696-1264-4a55-929a-edb166550f90",
   "metadata": {},
   "outputs": [],
   "source": [
    "ccd.groupby('Class').describe()"
   ]
  },
  {
   "cell_type": "code",
   "execution_count": null,
   "id": "d1a9240b-8470-4606-b33a-e1c00bb9297a",
   "metadata": {},
   "outputs": [],
   "source": [
    "ccd.groupby('Class').mean()"
   ]
  },
  {
   "cell_type": "code",
   "execution_count": null,
   "id": "6a8b20a0-8746-4269-9830-8a29baf890a2",
   "metadata": {},
   "outputs": [],
   "source": [
    "# there's a significant difference in the mean value for our normal transaction and mean value for our fraud transactions"
   ]
  },
  {
   "cell_type": "code",
   "execution_count": null,
   "id": "99e58412-6692-4f90-9e8b-0b7b4615d669",
   "metadata": {},
   "outputs": [],
   "source": [
    "# now to balance the data for legit and fraud transaction value points \n",
    "# we will use sampling for creating a new dataset of normal transactions with 492 entries being selected randomly out of 284315"
   ]
  },
  {
   "cell_type": "code",
   "execution_count": null,
   "id": "c813bdb7-7368-4b49-8ab5-71da6bdfe02b",
   "metadata": {},
   "outputs": [],
   "source": [
    "normal_sample = legit.sample(n=492)"
   ]
  },
  {
   "cell_type": "code",
   "execution_count": null,
   "id": "9e772ffb-06c7-4c12-b259-9f27ca291f08",
   "metadata": {},
   "outputs": [],
   "source": [
    "# now merge the two datasets for fraud and legit transactions with equal number of sampl points"
   ]
  },
  {
   "cell_type": "code",
   "execution_count": null,
   "id": "cad7d704-0368-48ff-b38c-e876b0857185",
   "metadata": {},
   "outputs": [],
   "source": [
    "new_dataset = pd.concat([normal_sample, fraud], axis = 0) # axis =0 species row wise joining of the datasets l"
   ]
  },
  {
   "cell_type": "code",
   "execution_count": null,
   "id": "007b7c2e-d46d-49c8-b6ac-a67fd61077c4",
   "metadata": {},
   "outputs": [],
   "source": [
    "new_dataset"
   ]
  },
  {
   "cell_type": "code",
   "execution_count": null,
   "id": "c4a1f71b-71d7-4139-ab97-46af0075ced2",
   "metadata": {},
   "outputs": [],
   "source": [
    "new_dataset['Class'].value_counts()"
   ]
  },
  {
   "cell_type": "code",
   "execution_count": null,
   "id": "9a714359-68d1-4cb6-80df-ce1e56c6f416",
   "metadata": {},
   "outputs": [],
   "source": [
    "new_dataset.groupby('Class').mean() "
   ]
  },
  {
   "cell_type": "code",
   "execution_count": null,
   "id": "b02f4e96-ca6a-4ef4-9036-0ccb6e3931dd",
   "metadata": {},
   "outputs": [],
   "source": [
    "# here we can drop the time feature and instead use a derived column using timedelta function of pandas to represent the duration that is difference between two time values\n",
    "delta_time = pd.to_timedelta(new_dataset['Time'], unit = 's')\n",
    "# create the derived column\n",
    "new_dataset['time_hour']=(delta_time.dt.components.hours).astype(int)\n",
    "# now drop the time column\n",
    "new_dataset.drop(columns='Time', axis=1, inplace = True)"
   ]
  },
  {
   "cell_type": "code",
   "execution_count": null,
   "id": "537e3ffc-bdf8-40f4-9689-77a9b03baa6c",
   "metadata": {},
   "outputs": [],
   "source": [
    "new_dataset"
   ]
  },
  {
   "cell_type": "markdown",
   "id": "396cd2f0-0c2a-4c8d-b43f-d378da7523d0",
   "metadata": {},
   "source": [
    "# separating the features and target variables"
   ]
  },
  {
   "cell_type": "code",
   "execution_count": null,
   "id": "e9ee3cf0-ff14-415c-94e1-b26283b0c7c1",
   "metadata": {},
   "outputs": [],
   "source": [
    "x = new_dataset.drop('Class', axis=1)"
   ]
  },
  {
   "cell_type": "code",
   "execution_count": null,
   "id": "135be018-ccf7-4b60-a9fa-cea09c755f3f",
   "metadata": {},
   "outputs": [],
   "source": [
    "y = new_dataset['Class']"
   ]
  },
  {
   "cell_type": "code",
   "execution_count": null,
   "id": "208ee233-e202-41d5-b516-b54fbba1bd0e",
   "metadata": {},
   "outputs": [],
   "source": [
    "x.shape"
   ]
  },
  {
   "cell_type": "code",
   "execution_count": null,
   "id": "bed69cb5-5c7b-4b48-89a0-a758c224aaf2",
   "metadata": {},
   "outputs": [],
   "source": [
    "y.shape"
   ]
  },
  {
   "cell_type": "markdown",
   "id": "bad07de5-0216-469e-b311-8318a9e887c1",
   "metadata": {},
   "source": [
    "# splitting the data into training and testing data "
   ]
  },
  {
   "cell_type": "code",
   "execution_count": null,
   "id": "9de84941-7257-4535-ba8f-187d2951e98d",
   "metadata": {},
   "outputs": [],
   "source": [
    "x_train, x_test, y_train, y_test = train_test_split(x,y, test_size = 0.25, random_state = 3, stratify = y)"
   ]
  },
  {
   "cell_type": "code",
   "execution_count": null,
   "id": "a6b0b0be-8047-4193-9e32-4f587ce58c1c",
   "metadata": {},
   "outputs": [],
   "source": [
    "#accumulating all the column names under one variable\n",
    "cols = list(x.columns.values)"
   ]
  },
  {
   "cell_type": "code",
   "execution_count": null,
   "id": "58555c47-6424-4aac-b12c-3cd78887fef6",
   "metadata": {},
   "outputs": [],
   "source": [
    "normal_entries = new_dataset.Class==0\n",
    "fraud_entries = new_dataset.Class==1\n",
    "\n",
    "plt.figure(figsize=(20,70))\n",
    "for n, col in enumerate(cols):\n",
    "    plt.subplot(10,3,n+1)\n",
    "    sns.histplot(x[col][normal_entries], color='blue', kde = True, stat = 'density')\n",
    "    sns.histplot(x[col][fraud_entries], color='red', kde = True, stat = 'density')\n",
    "    plt.title(col, fontsize=17)\n",
    "plt.show()\n"
   ]
  },
  {
   "cell_type": "code",
   "execution_count": null,
   "id": "aa83fcc8-a920-42e5-91dc-f3f1c70b3df2",
   "metadata": {},
   "outputs": [],
   "source": [
    "model = LogisticRegression()\n",
    "model.fit(x_train, y_train)\n",
    "y_pred = model.predict(x_train)\n",
    "pred_test = model.predict(x_test)"
   ]
  },
  {
   "cell_type": "markdown",
   "id": "3edb9f8d-857a-4089-af0d-965c508b642b",
   "metadata": {},
   "source": [
    "# Model evaluation"
   ]
  },
  {
   "cell_type": "code",
   "execution_count": null,
   "id": "af8faa7a-32cb-406f-ab93-ed6d14f563ea",
   "metadata": {},
   "outputs": [],
   "source": [
    "# creating confusion matrix\n",
    "from sklearn.metrics import confusion_matrix\n",
    "def Plot_confusion_matrix(y_test, y_pred):\n",
    "    cm = confusion_matrix(y_test,pred_test)\n",
    "    plt.clf()\n",
    "    plt.show()\n",
    "\n",
    "    "
   ]
  },
  {
   "cell_type": "code",
   "execution_count": null,
   "id": "d6597882-a818-49d5-a667-74bda827ecda",
   "metadata": {},
   "outputs": [],
   "source": [
    "# accuracy on training data\n",
    "acc_score= round(accuracy_score(y_pred, y_train)*100,2)"
   ]
  },
  {
   "cell_type": "code",
   "execution_count": null,
   "id": "2fe7ccb9-6895-45e8-8a62-94d3c99de172",
   "metadata": {},
   "outputs": [],
   "source": [
    "print('the accuracy score for training data of our model is :', acc_score)"
   ]
  },
  {
   "cell_type": "code",
   "execution_count": null,
   "id": "951c62a9-9c97-4deb-9647-38a7f49eb298",
   "metadata": {},
   "outputs": [],
   "source": [
    "y_pred = model.predict(x_test)\n",
    "acc_score = round(accuracy_score(y_pred, y_test)*100,2)"
   ]
  },
  {
   "cell_type": "code",
   "execution_count": null,
   "id": "3f8aa316-a794-413e-8c2b-63d8b448e0db",
   "metadata": {},
   "outputs": [],
   "source": [
    "print('the accuracy score of our model is :', acc_score)"
   ]
  },
  {
   "cell_type": "code",
   "execution_count": null,
   "id": "a7bc6af5-766f-44eb-86f5-60dab1a875c9",
   "metadata": {},
   "outputs": [],
   "source": [
    "from sklearn import metrics"
   ]
  },
  {
   "cell_type": "code",
   "execution_count": null,
   "id": "dd0639f8-5601-4b46-ab06-33d023ca6133",
   "metadata": {},
   "outputs": [],
   "source": [
    "score = round(model.score(x_test, y_test)*100,2)\n",
    "print('score of our model is :', score)"
   ]
  },
  {
   "cell_type": "code",
   "execution_count": null,
   "id": "656c26f7-3427-4bde-8576-d934fdcc5c6a",
   "metadata": {},
   "outputs": [],
   "source": [
    "class_report = classification_report(y_pred, y_test)\n",
    "print('classification report of our model: ', class_report)"
   ]
  },
  {
   "cell_type": "code",
   "execution_count": null,
   "id": "840d7035-02a0-40f7-aea9-cd476b23d02c",
   "metadata": {},
   "outputs": [],
   "source": [
    "# we have achieved a model with decent accuracy score"
   ]
  },
  {
   "cell_type": "markdown",
   "id": "eb8fc356-5282-4301-9984-c0a4e93a31db",
   "metadata": {},
   "source": [
    "# Thank You"
   ]
  },
  {
   "cell_type": "code",
   "execution_count": null,
   "id": "519ba90b-dde7-4d4e-94b1-911f00e07c45",
   "metadata": {},
   "outputs": [],
   "source": []
  }
 ],
 "metadata": {
  "kernelspec": {
   "display_name": "Python 3 (ipykernel)",
   "language": "python",
   "name": "python3"
  },
  "language_info": {
   "codemirror_mode": {
    "name": "ipython",
    "version": 3
   },
   "file_extension": ".py",
   "mimetype": "text/x-python",
   "name": "python",
   "nbconvert_exporter": "python",
   "pygments_lexer": "ipython3",
   "version": "3.11.4"
  }
 },
 "nbformat": 4,
 "nbformat_minor": 5
}
